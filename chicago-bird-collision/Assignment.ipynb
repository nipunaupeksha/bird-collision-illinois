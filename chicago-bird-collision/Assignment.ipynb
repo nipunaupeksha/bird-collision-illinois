{
 "cells": [
  {
   "cell_type": "code",
   "execution_count": 1,
   "metadata": {},
   "outputs": [],
   "source": [
    "import pandas as pd"
   ]
  },
  {
   "cell_type": "code",
   "execution_count": 2,
   "metadata": {},
   "outputs": [],
   "source": [
    "def main(light_levels,collision_data,flight_call,output_file):\n",
    "    try:\n",
    "        #Load .json files to DataFrames\n",
    "        lLevels=pd.read_json(light_levels)\n",
    "        cData = pd.read_json(collision_data)\n",
    "        fCall=pd.read_json(flight_call)\n",
    "\n",
    "        #Correct the fCall DataFrame columns as given in the .docx file\n",
    "        fCall.columns=[\"Genus\",\"Species\",\"Family\",\"Flight\",\"Flight Call\",\"Habitat\",\"Stratum\"]\n",
    "\n",
    "        #Remove rows containing NaN values from all the DataFrames\n",
    "        lLevels.dropna(subset=lLevels.columns[[0,1]], inplace=True)\n",
    "        cData.dropna(subset=cData.columns[[0,1,2,3]], inplace=True)\n",
    "        fCall.dropna(subset=fCall.columns[[0,1,2,3,4,5,6]], inplace=True)\n",
    "\n",
    "        #Since the LightScore for a certain date should be unique. we should remove duplicates from the lLevels DataFrame\n",
    "        lLevels.drop_duplicates(subset='Date', keep=False, inplace=True)\n",
    "\n",
    "        #The Taxonomic Ranking is  Family > Genus > Species. So we will create a separate column in fCall and remove the duplicates in that\n",
    "        fCall['tax']=fCall.apply(lambda row: row.Family.lower().strip()+\" \"+row.Genus.lower().strip()+\" \"+row.Species.lower().strip(),axis=1)\n",
    "\n",
    "        #since the Taxonomic name we made is unique, we can remove the duplicates accordingly.\n",
    "        fCall.drop_duplicates(subset='tax', keep=False, inplace=True)\n",
    "\n",
    "        #Merge lLevels DataFrame and cData based on the Date column since Date column is unique in lLevles DataFrame\n",
    "        #What this implies is the date and light score of that day when this bird if found.\n",
    "        df1 = pd.merge(lLevels,cData,on='Date')\n",
    "\n",
    "        #After merging that we need to merge df1 and fCall DataFrames. To do that we need to find a common column.\n",
    "        #The common columns available in those DataFrames are Genus and Species.\n",
    "        #So we will create a column called sName specifying \"Specific Name\"\n",
    "        #Furthermore we will delete the Genus and Species columns in df1 DataFrame since it can create duplicate columns\n",
    "        fCall['sName']=fCall.apply(lambda row: row.Genus.lower().strip()+\" \"+row.Species.lower().strip(),axis=1)\n",
    "        df1['sName']=df1.apply(lambda row: row.Genus.lower().strip()+\" \"+row.Species.lower().strip(),axis=1)\n",
    "        df1=df1.drop(columns=[\"Genus\",\"Species\"])\n",
    "\n",
    "        #Now let's merge the fCall and df1 DataFrames\n",
    "        #This implies the bird data when the bird is found on the particular date\n",
    "        df2 = pd.merge(df1,fCall,on='sName')\n",
    "\n",
    "        #We will remove the sName and tax columns we used for merging.\n",
    "        df2=df2.drop(columns=[\"sName\",\"tax\"])\n",
    "\n",
    "        #Let's sort the DataFrame by \"Date\"\n",
    "        df2[\"Date\"] = pd.to_datetime(df2[\"Date\"])\n",
    "        df2 = df2.sort_values(by=\"Date\")\n",
    "        #Let's send the DataFrame to a .csv file. Yo can open .csv file in Microsoft Excel or import it to MySQL database.\n",
    "        df2.to_csv (output_file, index = False, header=True)\n",
    "    except Exception as e:\n",
    "        print(e)\n",
    "        return\n",
    "    "
   ]
  },
  {
   "cell_type": "code",
   "execution_count": 3,
   "metadata": {},
   "outputs": [],
   "source": [
    "main(\"light_levels.json\",\"chicago_collision_data.json\",\"flight_call.json\",\"output.csv\")"
   ]
  },
  {
   "cell_type": "code",
   "execution_count": null,
   "metadata": {},
   "outputs": [],
   "source": []
  }
 ],
 "metadata": {
  "kernelspec": {
   "display_name": "Python 3",
   "language": "python",
   "name": "python3"
  },
  "language_info": {
   "codemirror_mode": {
    "name": "ipython",
    "version": 3
   },
   "file_extension": ".py",
   "mimetype": "text/x-python",
   "name": "python",
   "nbconvert_exporter": "python",
   "pygments_lexer": "ipython3",
   "version": "3.8.3"
  }
 },
 "nbformat": 4,
 "nbformat_minor": 4
}
