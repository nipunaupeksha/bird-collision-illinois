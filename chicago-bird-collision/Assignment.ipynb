{
 "cells": [
  {
   "cell_type": "code",
   "execution_count": 1,
   "metadata": {},
   "outputs": [],
   "source": [
    "import pandas as pd\n",
    "import matplotlib.pyplot as plt\n",
    "import seaborn as sns\n",
    "from jupyterthemes import jtplot\n",
    "jtplot.style(theme='monokai', context='notebook', ticks=True, grid=False)"
   ]
  },
  {
   "cell_type": "code",
   "execution_count": 2,
   "metadata": {},
   "outputs": [
    {
     "data": {
      "text/html": [
       "<div>\n",
       "<style scoped>\n",
       "    .dataframe tbody tr th:only-of-type {\n",
       "        vertical-align: middle;\n",
       "    }\n",
       "\n",
       "    .dataframe tbody tr th {\n",
       "        vertical-align: top;\n",
       "    }\n",
       "\n",
       "    .dataframe thead th {\n",
       "        text-align: right;\n",
       "    }\n",
       "</style>\n",
       "<table border=\"1\" class=\"dataframe\">\n",
       "  <thead>\n",
       "    <tr style=\"text-align: right;\">\n",
       "      <th></th>\n",
       "      <th>Date</th>\n",
       "      <th>Light Score</th>\n",
       "    </tr>\n",
       "  </thead>\n",
       "  <tbody>\n",
       "    <tr>\n",
       "      <th>0</th>\n",
       "      <td>2010-09-26</td>\n",
       "      <td>4.0</td>\n",
       "    </tr>\n",
       "    <tr>\n",
       "      <th>1</th>\n",
       "      <td>2015-05-07</td>\n",
       "      <td>6.0</td>\n",
       "    </tr>\n",
       "    <tr>\n",
       "      <th>2</th>\n",
       "      <td>2012-03-07</td>\n",
       "      <td>NaN</td>\n",
       "    </tr>\n",
       "    <tr>\n",
       "      <th>3</th>\n",
       "      <td>2000-09-18</td>\n",
       "      <td>15.0</td>\n",
       "    </tr>\n",
       "    <tr>\n",
       "      <th>4</th>\n",
       "      <td>2000-11-10</td>\n",
       "      <td>15.0</td>\n",
       "    </tr>\n",
       "  </tbody>\n",
       "</table>\n",
       "</div>"
      ],
      "text/plain": [
       "        Date  Light Score \n",
       "0 2010-09-26           4.0\n",
       "1 2015-05-07           6.0\n",
       "2 2012-03-07           NaN\n",
       "3 2000-09-18          15.0\n",
       "4 2000-11-10          15.0"
      ]
     },
     "execution_count": 2,
     "metadata": {},
     "output_type": "execute_result"
    }
   ],
   "source": [
    "lLevels=pd.read_json('light_levels.json')\n",
    "lLevels.head(5)"
   ]
  },
  {
   "cell_type": "code",
   "execution_count": 3,
   "metadata": {
    "scrolled": true
   },
   "outputs": [
    {
     "data": {
      "text/plain": [
       "<bound method DataFrame.info of            Date  Light Score \n",
       "0    2010-09-26           4.0\n",
       "1    2015-05-07           6.0\n",
       "2    2012-03-07           NaN\n",
       "3    2000-09-18          15.0\n",
       "4    2000-11-10          15.0\n",
       "...         ...           ...\n",
       "3246 2018-05-03          14.0\n",
       "3247 2001-11-07           3.0\n",
       "3248 2012-09-03          17.0\n",
       "3249 2002-03-23           3.0\n",
       "3250 2015-08-28           3.0\n",
       "\n",
       "[3251 rows x 2 columns]>"
      ]
     },
     "execution_count": 3,
     "metadata": {},
     "output_type": "execute_result"
    }
   ],
   "source": [
    "lLevels.info"
   ]
  },
  {
   "cell_type": "code",
   "execution_count": 4,
   "metadata": {},
   "outputs": [
    {
     "data": {
      "text/html": [
       "<div>\n",
       "<style scoped>\n",
       "    .dataframe tbody tr th:only-of-type {\n",
       "        vertical-align: middle;\n",
       "    }\n",
       "\n",
       "    .dataframe tbody tr th {\n",
       "        vertical-align: top;\n",
       "    }\n",
       "\n",
       "    .dataframe thead th {\n",
       "        text-align: right;\n",
       "    }\n",
       "</style>\n",
       "<table border=\"1\" class=\"dataframe\">\n",
       "  <thead>\n",
       "    <tr style=\"text-align: right;\">\n",
       "      <th></th>\n",
       "      <th>Light Score</th>\n",
       "    </tr>\n",
       "  </thead>\n",
       "  <tbody>\n",
       "    <tr>\n",
       "      <th>count</th>\n",
       "      <td>3236.000000</td>\n",
       "    </tr>\n",
       "    <tr>\n",
       "      <th>mean</th>\n",
       "      <td>10.338690</td>\n",
       "    </tr>\n",
       "    <tr>\n",
       "      <th>std</th>\n",
       "      <td>5.279244</td>\n",
       "    </tr>\n",
       "    <tr>\n",
       "      <th>min</th>\n",
       "      <td>3.000000</td>\n",
       "    </tr>\n",
       "    <tr>\n",
       "      <th>25%</th>\n",
       "      <td>4.000000</td>\n",
       "    </tr>\n",
       "    <tr>\n",
       "      <th>50%</th>\n",
       "      <td>11.000000</td>\n",
       "    </tr>\n",
       "    <tr>\n",
       "      <th>75%</th>\n",
       "      <td>15.000000</td>\n",
       "    </tr>\n",
       "    <tr>\n",
       "      <th>max</th>\n",
       "      <td>17.000000</td>\n",
       "    </tr>\n",
       "  </tbody>\n",
       "</table>\n",
       "</div>"
      ],
      "text/plain": [
       "       Light Score \n",
       "count   3236.000000\n",
       "mean      10.338690\n",
       "std        5.279244\n",
       "min        3.000000\n",
       "25%        4.000000\n",
       "50%       11.000000\n",
       "75%       15.000000\n",
       "max       17.000000"
      ]
     },
     "execution_count": 4,
     "metadata": {},
     "output_type": "execute_result"
    }
   ],
   "source": [
    "lLevels.describe()"
   ]
  },
  {
   "cell_type": "code",
   "execution_count": 5,
   "metadata": {},
   "outputs": [
    {
     "data": {
      "text/html": [
       "<div>\n",
       "<style scoped>\n",
       "    .dataframe tbody tr th:only-of-type {\n",
       "        vertical-align: middle;\n",
       "    }\n",
       "\n",
       "    .dataframe tbody tr th {\n",
       "        vertical-align: top;\n",
       "    }\n",
       "\n",
       "    .dataframe thead th {\n",
       "        text-align: right;\n",
       "    }\n",
       "</style>\n",
       "<table border=\"1\" class=\"dataframe\">\n",
       "  <thead>\n",
       "    <tr style=\"text-align: right;\">\n",
       "      <th></th>\n",
       "      <th>Species</th>\n",
       "      <th>Family</th>\n",
       "      <th>Collisions</th>\n",
       "      <th>Flight</th>\n",
       "      <th>Call</th>\n",
       "      <th>Habitat</th>\n",
       "      <th>Stratum</th>\n",
       "    </tr>\n",
       "  </thead>\n",
       "  <tbody>\n",
       "    <tr>\n",
       "      <th>0</th>\n",
       "      <td>Zonotrichia</td>\n",
       "      <td>albicollis</td>\n",
       "      <td>Passerellidae</td>\n",
       "      <td>10133</td>\n",
       "      <td>Yes</td>\n",
       "      <td>Forest</td>\n",
       "      <td>Lower</td>\n",
       "    </tr>\n",
       "    <tr>\n",
       "      <th>1</th>\n",
       "      <td>Junco</td>\n",
       "      <td>hyemalis</td>\n",
       "      <td>Passerellidae</td>\n",
       "      <td>6303</td>\n",
       "      <td>Yes</td>\n",
       "      <td>Edge</td>\n",
       "      <td>Lower</td>\n",
       "    </tr>\n",
       "    <tr>\n",
       "      <th>2</th>\n",
       "      <td>Melospiza</td>\n",
       "      <td>melodia</td>\n",
       "      <td>Passerellidae</td>\n",
       "      <td>5124</td>\n",
       "      <td>Yes</td>\n",
       "      <td>Edge</td>\n",
       "      <td>Lower</td>\n",
       "    </tr>\n",
       "    <tr>\n",
       "      <th>3</th>\n",
       "      <td>Melospiza</td>\n",
       "      <td>georgiana</td>\n",
       "      <td>Passerellidae</td>\n",
       "      <td>4910</td>\n",
       "      <td>Yes</td>\n",
       "      <td>Open</td>\n",
       "      <td>Lower</td>\n",
       "    </tr>\n",
       "    <tr>\n",
       "      <th>4</th>\n",
       "      <td>Seiurus</td>\n",
       "      <td>aurocapilla</td>\n",
       "      <td>Parulidae</td>\n",
       "      <td>4580</td>\n",
       "      <td>Yes</td>\n",
       "      <td>Forest</td>\n",
       "      <td>Lower</td>\n",
       "    </tr>\n",
       "  </tbody>\n",
       "</table>\n",
       "</div>"
      ],
      "text/plain": [
       "       Species       Family     Collisions  Flight Call Habitat Stratum\n",
       "0  Zonotrichia   albicollis  Passerellidae   10133  Yes  Forest   Lower\n",
       "1        Junco     hyemalis  Passerellidae    6303  Yes    Edge   Lower\n",
       "2    Melospiza      melodia  Passerellidae    5124  Yes    Edge   Lower\n",
       "3    Melospiza    georgiana  Passerellidae    4910  Yes    Open   Lower\n",
       "4      Seiurus  aurocapilla      Parulidae    4580  Yes  Forest   Lower"
      ]
     },
     "execution_count": 5,
     "metadata": {},
     "output_type": "execute_result"
    }
   ],
   "source": [
    "fCall=pd.read_json('flight_call.json')\n",
    "fCall.head(5)"
   ]
  },
  {
   "cell_type": "code",
   "execution_count": 6,
   "metadata": {
    "scrolled": false
   },
   "outputs": [
    {
     "data": {
      "text/plain": [
       "<bound method DataFrame.info of         Species       Family     Collisions  Flight Call Habitat Stratum\n",
       "0   Zonotrichia   albicollis  Passerellidae   10133  Yes  Forest   Lower\n",
       "1         Junco     hyemalis  Passerellidae    6303  Yes    Edge   Lower\n",
       "2     Melospiza      melodia  Passerellidae    5124  Yes    Edge   Lower\n",
       "3     Melospiza    georgiana  Passerellidae    4910  Yes    Open   Lower\n",
       "4       Seiurus  aurocapilla      Parulidae    4580  Yes  Forest   Lower\n",
       "..          ...          ...            ...     ...  ...     ...     ...\n",
       "91    Empidonax     traillii     Tyrannidae     177   No    Open   Upper\n",
       "92    Melospiza    georgiana  Passerellidae    4910  Yes    Open   Lower\n",
       "93        Vireo       gilvus     Vireonidae       2   No  Forest   Upper\n",
       "94        Vireo   flavifrons     Vireonidae      12   No  Forest   Upper\n",
       "95      Certhia    americana     Certhiidae    2676  Yes  Forest   Upper\n",
       "\n",
       "[96 rows x 7 columns]>"
      ]
     },
     "execution_count": 6,
     "metadata": {},
     "output_type": "execute_result"
    }
   ],
   "source": [
    "fCall.info"
   ]
  },
  {
   "cell_type": "code",
   "execution_count": 7,
   "metadata": {},
   "outputs": [
    {
     "data": {
      "text/html": [
       "<div>\n",
       "<style scoped>\n",
       "    .dataframe tbody tr th:only-of-type {\n",
       "        vertical-align: middle;\n",
       "    }\n",
       "\n",
       "    .dataframe tbody tr th {\n",
       "        vertical-align: top;\n",
       "    }\n",
       "\n",
       "    .dataframe thead th {\n",
       "        text-align: right;\n",
       "    }\n",
       "</style>\n",
       "<table border=\"1\" class=\"dataframe\">\n",
       "  <thead>\n",
       "    <tr style=\"text-align: right;\">\n",
       "      <th></th>\n",
       "      <th>Flight</th>\n",
       "    </tr>\n",
       "  </thead>\n",
       "  <tbody>\n",
       "    <tr>\n",
       "      <th>count</th>\n",
       "      <td>96.000000</td>\n",
       "    </tr>\n",
       "    <tr>\n",
       "      <th>mean</th>\n",
       "      <td>807.927083</td>\n",
       "    </tr>\n",
       "    <tr>\n",
       "      <th>std</th>\n",
       "      <td>1602.275587</td>\n",
       "    </tr>\n",
       "    <tr>\n",
       "      <th>min</th>\n",
       "      <td>1.000000</td>\n",
       "    </tr>\n",
       "    <tr>\n",
       "      <th>25%</th>\n",
       "      <td>17.500000</td>\n",
       "    </tr>\n",
       "    <tr>\n",
       "      <th>50%</th>\n",
       "      <td>177.000000</td>\n",
       "    </tr>\n",
       "    <tr>\n",
       "      <th>75%</th>\n",
       "      <td>742.000000</td>\n",
       "    </tr>\n",
       "    <tr>\n",
       "      <th>max</th>\n",
       "      <td>10133.000000</td>\n",
       "    </tr>\n",
       "  </tbody>\n",
       "</table>\n",
       "</div>"
      ],
      "text/plain": [
       "             Flight\n",
       "count     96.000000\n",
       "mean     807.927083\n",
       "std     1602.275587\n",
       "min        1.000000\n",
       "25%       17.500000\n",
       "50%      177.000000\n",
       "75%      742.000000\n",
       "max    10133.000000"
      ]
     },
     "execution_count": 7,
     "metadata": {},
     "output_type": "execute_result"
    }
   ],
   "source": [
    "fCall.describe()"
   ]
  },
  {
   "cell_type": "code",
   "execution_count": 8,
   "metadata": {},
   "outputs": [
    {
     "data": {
      "text/html": [
       "<div>\n",
       "<style scoped>\n",
       "    .dataframe tbody tr th:only-of-type {\n",
       "        vertical-align: middle;\n",
       "    }\n",
       "\n",
       "    .dataframe tbody tr th {\n",
       "        vertical-align: top;\n",
       "    }\n",
       "\n",
       "    .dataframe thead th {\n",
       "        text-align: right;\n",
       "    }\n",
       "</style>\n",
       "<table border=\"1\" class=\"dataframe\">\n",
       "  <thead>\n",
       "    <tr style=\"text-align: right;\">\n",
       "      <th></th>\n",
       "      <th>Genus</th>\n",
       "      <th>Species</th>\n",
       "      <th>Date</th>\n",
       "      <th>Locality</th>\n",
       "    </tr>\n",
       "  </thead>\n",
       "  <tbody>\n",
       "    <tr>\n",
       "      <th>0</th>\n",
       "      <td>Ammodramus</td>\n",
       "      <td>nelsoni</td>\n",
       "      <td>1982-10-03</td>\n",
       "      <td>MP</td>\n",
       "    </tr>\n",
       "    <tr>\n",
       "      <th>1</th>\n",
       "      <td>Ammodramus</td>\n",
       "      <td>nelsoni</td>\n",
       "      <td>1984-05-21</td>\n",
       "      <td>CHI</td>\n",
       "    </tr>\n",
       "    <tr>\n",
       "      <th>2</th>\n",
       "      <td>Ammodramus</td>\n",
       "      <td>nelsoni</td>\n",
       "      <td>1984-05-25</td>\n",
       "      <td>MP</td>\n",
       "    </tr>\n",
       "    <tr>\n",
       "      <th>3</th>\n",
       "      <td>Ammodramus</td>\n",
       "      <td>nelsoni</td>\n",
       "      <td>1985-10-08</td>\n",
       "      <td>MP</td>\n",
       "    </tr>\n",
       "    <tr>\n",
       "      <th>4</th>\n",
       "      <td>Ammodramus</td>\n",
       "      <td>nelsoni</td>\n",
       "      <td>1986-09-10</td>\n",
       "      <td>MP</td>\n",
       "    </tr>\n",
       "  </tbody>\n",
       "</table>\n",
       "</div>"
      ],
      "text/plain": [
       "        Genus  Species       Date Locality\n",
       "0  Ammodramus  nelsoni 1982-10-03       MP\n",
       "1  Ammodramus  nelsoni 1984-05-21      CHI\n",
       "2  Ammodramus  nelsoni 1984-05-25       MP\n",
       "3  Ammodramus  nelsoni 1985-10-08       MP\n",
       "4  Ammodramus  nelsoni 1986-09-10       MP"
      ]
     },
     "execution_count": 8,
     "metadata": {},
     "output_type": "execute_result"
    }
   ],
   "source": [
    "cData = pd.read_json('chicago_collision_data.json')\n",
    "cData.head(5)"
   ]
  },
  {
   "cell_type": "code",
   "execution_count": 9,
   "metadata": {},
   "outputs": [
    {
     "data": {
      "text/plain": [
       "<bound method DataFrame.info of              Genus     Species       Date Locality\n",
       "0       Ammodramus     nelsoni 1982-10-03       MP\n",
       "1       Ammodramus     nelsoni 1984-05-21      CHI\n",
       "2       Ammodramus     nelsoni 1984-05-25       MP\n",
       "3       Ammodramus     nelsoni 1985-10-08       MP\n",
       "4       Ammodramus     nelsoni 1986-09-10       MP\n",
       "...            ...         ...        ...      ...\n",
       "69779    Melospiza     melodia 2016-10-19      CHI\n",
       "69780    Melospiza     melodia 2016-10-30      CHI\n",
       "69781  Zonotrichia     querula 2007-10-15       MP\n",
       "69782  Zonotrichia     querula 2008-10-16       MP\n",
       "69783  Zonotrichia  albicollis 2013-10-22      CHI\n",
       "\n",
       "[69784 rows x 4 columns]>"
      ]
     },
     "execution_count": 9,
     "metadata": {},
     "output_type": "execute_result"
    }
   ],
   "source": [
    "cData.info"
   ]
  },
  {
   "cell_type": "code",
   "execution_count": 10,
   "metadata": {},
   "outputs": [
    {
     "data": {
      "text/html": [
       "<div>\n",
       "<style scoped>\n",
       "    .dataframe tbody tr th:only-of-type {\n",
       "        vertical-align: middle;\n",
       "    }\n",
       "\n",
       "    .dataframe tbody tr th {\n",
       "        vertical-align: top;\n",
       "    }\n",
       "\n",
       "    .dataframe thead th {\n",
       "        text-align: right;\n",
       "    }\n",
       "</style>\n",
       "<table border=\"1\" class=\"dataframe\">\n",
       "  <thead>\n",
       "    <tr style=\"text-align: right;\">\n",
       "      <th></th>\n",
       "      <th>Genus</th>\n",
       "      <th>Species</th>\n",
       "      <th>Date</th>\n",
       "      <th>Locality</th>\n",
       "    </tr>\n",
       "  </thead>\n",
       "  <tbody>\n",
       "    <tr>\n",
       "      <th>count</th>\n",
       "      <td>69784</td>\n",
       "      <td>69784</td>\n",
       "      <td>69784</td>\n",
       "      <td>69784</td>\n",
       "    </tr>\n",
       "    <tr>\n",
       "      <th>unique</th>\n",
       "      <td>43</td>\n",
       "      <td>84</td>\n",
       "      <td>5318</td>\n",
       "      <td>2</td>\n",
       "    </tr>\n",
       "    <tr>\n",
       "      <th>top</th>\n",
       "      <td>Melospiza</td>\n",
       "      <td>albicollis</td>\n",
       "      <td>2013-10-08 00:00:00</td>\n",
       "      <td>MP</td>\n",
       "    </tr>\n",
       "    <tr>\n",
       "      <th>freq</th>\n",
       "      <td>12063</td>\n",
       "      <td>10133</td>\n",
       "      <td>364</td>\n",
       "      <td>36315</td>\n",
       "    </tr>\n",
       "    <tr>\n",
       "      <th>first</th>\n",
       "      <td>NaN</td>\n",
       "      <td>NaN</td>\n",
       "      <td>1978-09-15 00:00:00</td>\n",
       "      <td>NaN</td>\n",
       "    </tr>\n",
       "    <tr>\n",
       "      <th>last</th>\n",
       "      <td>NaN</td>\n",
       "      <td>NaN</td>\n",
       "      <td>2016-11-30 00:00:00</td>\n",
       "      <td>NaN</td>\n",
       "    </tr>\n",
       "  </tbody>\n",
       "</table>\n",
       "</div>"
      ],
      "text/plain": [
       "            Genus     Species                 Date Locality\n",
       "count       69784       69784                69784    69784\n",
       "unique         43          84                 5318        2\n",
       "top     Melospiza  albicollis  2013-10-08 00:00:00       MP\n",
       "freq        12063       10133                  364    36315\n",
       "first         NaN         NaN  1978-09-15 00:00:00      NaN\n",
       "last          NaN         NaN  2016-11-30 00:00:00      NaN"
      ]
     },
     "execution_count": 10,
     "metadata": {},
     "output_type": "execute_result"
    }
   ],
   "source": [
    "cData.describe()"
   ]
  },
  {
   "cell_type": "code",
   "execution_count": 11,
   "metadata": {},
   "outputs": [
    {
     "data": {
      "text/html": [
       "<div>\n",
       "<style scoped>\n",
       "    .dataframe tbody tr th:only-of-type {\n",
       "        vertical-align: middle;\n",
       "    }\n",
       "\n",
       "    .dataframe tbody tr th {\n",
       "        vertical-align: top;\n",
       "    }\n",
       "\n",
       "    .dataframe thead th {\n",
       "        text-align: right;\n",
       "    }\n",
       "</style>\n",
       "<table border=\"1\" class=\"dataframe\">\n",
       "  <thead>\n",
       "    <tr style=\"text-align: right;\">\n",
       "      <th></th>\n",
       "      <th>Genus</th>\n",
       "      <th>Species</th>\n",
       "      <th>Family</th>\n",
       "      <th>Flight</th>\n",
       "      <th>Flight Call</th>\n",
       "      <th>Habitat</th>\n",
       "      <th>Stratum</th>\n",
       "    </tr>\n",
       "  </thead>\n",
       "  <tbody>\n",
       "    <tr>\n",
       "      <th>0</th>\n",
       "      <td>Zonotrichia</td>\n",
       "      <td>albicollis</td>\n",
       "      <td>Passerellidae</td>\n",
       "      <td>10133</td>\n",
       "      <td>Yes</td>\n",
       "      <td>Forest</td>\n",
       "      <td>Lower</td>\n",
       "    </tr>\n",
       "    <tr>\n",
       "      <th>1</th>\n",
       "      <td>Junco</td>\n",
       "      <td>hyemalis</td>\n",
       "      <td>Passerellidae</td>\n",
       "      <td>6303</td>\n",
       "      <td>Yes</td>\n",
       "      <td>Edge</td>\n",
       "      <td>Lower</td>\n",
       "    </tr>\n",
       "    <tr>\n",
       "      <th>2</th>\n",
       "      <td>Melospiza</td>\n",
       "      <td>melodia</td>\n",
       "      <td>Passerellidae</td>\n",
       "      <td>5124</td>\n",
       "      <td>Yes</td>\n",
       "      <td>Edge</td>\n",
       "      <td>Lower</td>\n",
       "    </tr>\n",
       "    <tr>\n",
       "      <th>3</th>\n",
       "      <td>Melospiza</td>\n",
       "      <td>georgiana</td>\n",
       "      <td>Passerellidae</td>\n",
       "      <td>4910</td>\n",
       "      <td>Yes</td>\n",
       "      <td>Open</td>\n",
       "      <td>Lower</td>\n",
       "    </tr>\n",
       "    <tr>\n",
       "      <th>4</th>\n",
       "      <td>Seiurus</td>\n",
       "      <td>aurocapilla</td>\n",
       "      <td>Parulidae</td>\n",
       "      <td>4580</td>\n",
       "      <td>Yes</td>\n",
       "      <td>Forest</td>\n",
       "      <td>Lower</td>\n",
       "    </tr>\n",
       "  </tbody>\n",
       "</table>\n",
       "</div>"
      ],
      "text/plain": [
       "         Genus      Species         Family  Flight Flight Call Habitat Stratum\n",
       "0  Zonotrichia   albicollis  Passerellidae   10133         Yes  Forest   Lower\n",
       "1        Junco     hyemalis  Passerellidae    6303         Yes    Edge   Lower\n",
       "2    Melospiza      melodia  Passerellidae    5124         Yes    Edge   Lower\n",
       "3    Melospiza    georgiana  Passerellidae    4910         Yes    Open   Lower\n",
       "4      Seiurus  aurocapilla      Parulidae    4580         Yes  Forest   Lower"
      ]
     },
     "execution_count": 11,
     "metadata": {},
     "output_type": "execute_result"
    }
   ],
   "source": [
    "fCall.columns=[\"Genus\",\"Species\",\"Family\",\"Flight\",\"Flight Call\",\"Habitat\",\"Stratum\"]\n",
    "fCall.head(5)"
   ]
  },
  {
   "cell_type": "code",
   "execution_count": 12,
   "metadata": {},
   "outputs": [
    {
     "data": {
      "text/plain": [
       "<matplotlib.axes._subplots.AxesSubplot at 0x24095616040>"
      ]
     },
     "execution_count": 12,
     "metadata": {},
     "output_type": "execute_result"
    },
    {
     "data": {
      "image/png": "[encoded data removed]",
      "text/plain": [
       "<Figure size 576x504 with 1 Axes>"
      ]
     },
     "metadata": {},
     "output_type": "display_data"
    }
   ],
   "source": [
    "sns.heatmap(lLevels.isnull(),yticklabels=False, cbar=False, cmap=\"Blues\")"
   ]
  },
  {
   "cell_type": "code",
   "execution_count": 13,
   "metadata": {},
   "outputs": [
    {
     "data": {
      "text/plain": [
       "Date            15\n",
       "Light Score     15\n",
       "dtype: int64"
      ]
     },
     "execution_count": 13,
     "metadata": {},
     "output_type": "execute_result"
    }
   ],
   "source": [
    "lLevels.isnull().sum()"
   ]
  },
  {
   "cell_type": "code",
   "execution_count": 14,
   "metadata": {},
   "outputs": [
    {
     "data": {
      "text/plain": [
       "Date            0\n",
       "Light Score     0\n",
       "dtype: int64"
      ]
     },
     "execution_count": 14,
     "metadata": {},
     "output_type": "execute_result"
    }
   ],
   "source": [
    "lLevels.dropna(subset=lLevels.columns[[0,1]], inplace=True)\n",
    "lLevels.isnull().sum()"
   ]
  },
  {
   "cell_type": "code",
   "execution_count": 15,
   "metadata": {},
   "outputs": [
    {
     "data": {
      "text/plain": [
       "<matplotlib.axes._subplots.AxesSubplot at 0x24091f86dc0>"
      ]
     },
     "execution_count": 15,
     "metadata": {},
     "output_type": "execute_result"
    },
    {
     "data": {
      "image/png": "[encoded data removed]",
      "text/plain": [
       "<Figure size 576x504 with 1 Axes>"
      ]
     },
     "metadata": {},
     "output_type": "display_data"
    }
   ],
   "source": [
    "sns.heatmap(fCall.isnull(),yticklabels=False, cbar=False, cmap=\"Blues\")"
   ]
  },
  {
   "cell_type": "code",
   "execution_count": 16,
   "metadata": {},
   "outputs": [
    {
     "data": {
      "text/plain": [
       "Genus          0\n",
       "Species        0\n",
       "Family         0\n",
       "Flight         0\n",
       "Flight Call    0\n",
       "Habitat        0\n",
       "Stratum        0\n",
       "dtype: int64"
      ]
     },
     "execution_count": 16,
     "metadata": {},
     "output_type": "execute_result"
    }
   ],
   "source": [
    "fCall.isnull().sum()"
   ]
  },
  {
   "cell_type": "code",
   "execution_count": 17,
   "metadata": {},
   "outputs": [
    {
     "data": {
      "text/plain": [
       "<matplotlib.axes._subplots.AxesSubplot at 0x240926e0fd0>"
      ]
     },
     "execution_count": 17,
     "metadata": {},
     "output_type": "execute_result"
    },
    {
     "data": {
      "image/png": "[encoded data removed]",
      "text/plain": [
       "<Figure size 576x504 with 1 Axes>"
      ]
     },
     "metadata": {},
     "output_type": "display_data"
    }
   ],
   "source": [
    "sns.heatmap(cData.isnull(),yticklabels=False, cbar=False, cmap=\"Blues\")"
   ]
  },
  {
   "cell_type": "code",
   "execution_count": 18,
   "metadata": {},
   "outputs": [
    {
     "data": {
      "text/plain": [
       "Genus       0\n",
       "Species     0\n",
       "Date        0\n",
       "Locality    0\n",
       "dtype: int64"
      ]
     },
     "execution_count": 18,
     "metadata": {},
     "output_type": "execute_result"
    }
   ],
   "source": [
    "cData.isnull().sum()"
   ]
  },
  {
   "cell_type": "code",
   "execution_count": 19,
   "metadata": {},
   "outputs": [
    {
     "data": {
      "text/html": [
       "<div>\n",
       "<style scoped>\n",
       "    .dataframe tbody tr th:only-of-type {\n",
       "        vertical-align: middle;\n",
       "    }\n",
       "\n",
       "    .dataframe tbody tr th {\n",
       "        vertical-align: top;\n",
       "    }\n",
       "\n",
       "    .dataframe thead th {\n",
       "        text-align: right;\n",
       "    }\n",
       "</style>\n",
       "<table border=\"1\" class=\"dataframe\">\n",
       "  <thead>\n",
       "    <tr style=\"text-align: right;\">\n",
       "      <th></th>\n",
       "      <th>Date</th>\n",
       "      <th>Light Score</th>\n",
       "      <th>Genus</th>\n",
       "      <th>Species</th>\n",
       "      <th>Locality</th>\n",
       "    </tr>\n",
       "  </thead>\n",
       "  <tbody>\n",
       "    <tr>\n",
       "      <th>0</th>\n",
       "      <td>2010-09-26</td>\n",
       "      <td>4.0</td>\n",
       "      <td>Catharus</td>\n",
       "      <td>guttatus</td>\n",
       "      <td>CHI</td>\n",
       "    </tr>\n",
       "    <tr>\n",
       "      <th>1</th>\n",
       "      <td>2010-09-26</td>\n",
       "      <td>4.0</td>\n",
       "      <td>Catharus</td>\n",
       "      <td>guttatus</td>\n",
       "      <td>CHI</td>\n",
       "    </tr>\n",
       "    <tr>\n",
       "      <th>2</th>\n",
       "      <td>2010-09-26</td>\n",
       "      <td>4.0</td>\n",
       "      <td>Catharus</td>\n",
       "      <td>guttatus</td>\n",
       "      <td>CHI</td>\n",
       "    </tr>\n",
       "    <tr>\n",
       "      <th>3</th>\n",
       "      <td>2010-09-26</td>\n",
       "      <td>4.0</td>\n",
       "      <td>Catharus</td>\n",
       "      <td>ustulatus</td>\n",
       "      <td>CHI</td>\n",
       "    </tr>\n",
       "    <tr>\n",
       "      <th>4</th>\n",
       "      <td>2010-09-26</td>\n",
       "      <td>4.0</td>\n",
       "      <td>Catharus</td>\n",
       "      <td>ustulatus</td>\n",
       "      <td>CHI</td>\n",
       "    </tr>\n",
       "  </tbody>\n",
       "</table>\n",
       "</div>"
      ],
      "text/plain": [
       "        Date  Light Score      Genus    Species Locality\n",
       "0 2010-09-26           4.0  Catharus   guttatus      CHI\n",
       "1 2010-09-26           4.0  Catharus   guttatus      CHI\n",
       "2 2010-09-26           4.0  Catharus   guttatus      CHI\n",
       "3 2010-09-26           4.0  Catharus  ustulatus      CHI\n",
       "4 2010-09-26           4.0  Catharus  ustulatus      CHI"
      ]
     },
     "execution_count": 19,
     "metadata": {},
     "output_type": "execute_result"
    }
   ],
   "source": [
    "df1 = pd.merge(lLevels,cData,on='Date')\n",
    "df1.head(5)"
   ]
  },
  {
   "cell_type": "code",
   "execution_count": null,
   "metadata": {},
   "outputs": [],
   "source": [
    "df1['sName']=df1.apply(lambda row: row.Genus.strip()+\" \"+row.Species.strip(),axis=1)\n",
    "df1.head(5)"
   ]
  },
  {
   "cell_type": "code",
   "execution_count": null,
   "metadata": {},
   "outputs": [],
   "source": [
    "df1.drop(columns=[\"Genus\",\"Species\"])"
   ]
  },
  {
   "cell_type": "code",
   "execution_count": null,
   "metadata": {},
   "outputs": [],
   "source": [
    "fCall['sName']=fCall.apply(lambda row: row.Genus.strip()+\" \"+row.Species.strip(),axis=1)\n",
    "fCall.head(5)"
   ]
  },
  {
   "cell_type": "code",
   "execution_count": null,
   "metadata": {
    "scrolled": true
   },
   "outputs": [],
   "source": [
    "df2 = pd.merge(df1,fCall,on='sName')\n",
    "df2.head(5)"
   ]
  },
  {
   "cell_type": "code",
   "execution_count": null,
   "metadata": {},
   "outputs": [],
   "source": [
    "df2.describe()"
   ]
  },
  {
   "cell_type": "code",
   "execution_count": null,
   "metadata": {},
   "outputs": [],
   "source": [
    "sns.heatmap(df2.isnull(),yticklabels=False, cbar=False, cmap=\"Blues\")"
   ]
  },
  {
   "cell_type": "code",
   "execution_count": null,
   "metadata": {},
   "outputs": [],
   "source": []
  }
 ],
 "metadata": {
  "kernelspec": {
   "display_name": "Python 3",
   "language": "python",
   "name": "python3"
  },
  "language_info": {
   "codemirror_mode": {
    "name": "ipython",
    "version": 3
   },
   "file_extension": ".py",
   "mimetype": "text/x-python",
   "name": "python",
   "nbconvert_exporter": "python",
   "pygments_lexer": "ipython3",
   "version": "3.8.3"
  }
 },
 "nbformat": 4,
 "nbformat_minor": 4
}
